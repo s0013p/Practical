{
 "cells": [
  {
   "cell_type": "code",
   "execution_count": 1,
   "id": "9857115c",
   "metadata": {},
   "outputs": [
    {
     "name": "stdout",
     "output_type": "stream",
     "text": [
      "Requirement already satisfied: pycryptodome in c:\\users\\mohan\\appdata\\local\\programs\\python\\python310\\lib\\site-packages (3.22.0)\n",
      "Note: you may need to restart the kernel to use updated packages.\n"
     ]
    },
    {
     "name": "stderr",
     "output_type": "stream",
     "text": [
      "\n",
      "[notice] A new release of pip is available: 24.3.1 -> 25.0.1\n",
      "[notice] To update, run: python.exe -m pip install --upgrade pip\n"
     ]
    }
   ],
   "source": [
    "pip install pycryptodome\n"
   ]
  },
  {
   "cell_type": "code",
   "execution_count": 2,
   "id": "731f2024",
   "metadata": {},
   "outputs": [
    {
     "name": "stdout",
     "output_type": "stream",
     "text": [
      "Public Key (e, n): (4165603580549026427246497435270142815649773680253079975181745226209189829804377746270004688732178584019378143914708173412969752287236429105690002444323146138982807372712580137171087343167015523917302692667217514522964000061093521886047695049172682643442257309530023288386701635047546030948553806221868953807, 93748063051850074099851502480266971314879120822678631403384248863081976949070127481104534447591685171260553238693232015744422722360975290786340527312114069673584591237374675247516633787327510361856959490964194182490407783500286779563007637483572159732077355216490613395942802465348017314990076751406753173777)\n",
      "Private Key (d, n): (17315919651647803223803646906934656598841074948819241716324885879901165179123669364012929952614282860425966569315301655829854503582261117006431224814489254926186408748779870131090853077104624231807271016108176826375077845192373008330133432644443145764618858788106753954823887863580464020469496223482732328611, 93748063051850074099851502480266971314879120822678631403384248863081976949070127481104534447591685171260553238693232015744422722360975290786340527312114069673584591237374675247516633787327510361856959490964194182490407783500286779563007637483572159732077355216490613395942802465348017314990076751406753173777)\n",
      "\n",
      "Original Message: Hello RSA!\n",
      "\n",
      "Ciphertext: 19108550993285898273233990052972720016051813802793632264394747501649717979277417653620876105830307110026385297087354149063279151646096084893393934274101807553675499885213152565458611946463605762335473604295319917827733748155711032907589288097241634077051962334158925895327333539619085130383964289749409815926\n",
      "\n",
      "Decrypted Message: Hello RSA!\n"
     ]
    }
   ],
   "source": [
    "# Import necessary libraries\n",
    "from sympy import randprime, gcd\n",
    "from Crypto.Util.number import inverse\n",
    "import random\n",
    "\n",
    "# Function to generate public and private keys\n",
    "def generate_keys(bit_length=512):\n",
    "    # Generate two distinct prime numbers\n",
    "    p = randprime(2**(bit_length-1), 2**bit_length)\n",
    "    q = randprime(2**(bit_length-1), 2**bit_length)\n",
    "    while p == q:\n",
    "        q = randprime(2**(bit_length-1), 2**bit_length)\n",
    "\n",
    "    # Calculate n = p * q\n",
    "    n = p * q\n",
    "\n",
    "    # Calculate Euler's Totient function φ(n) = (p-1)*(q-1)\n",
    "    phi_n = (p - 1) * (q - 1)\n",
    "\n",
    "    # Choose e such that 1 < e < φ(n) and gcd(e, φ(n)) = 1\n",
    "    e = random.randrange(2, phi_n)\n",
    "    while gcd(e, phi_n) != 1:\n",
    "        e = random.randrange(2, phi_n)\n",
    "\n",
    "    # Calculate d (modular inverse of e modulo φ(n))\n",
    "    d = inverse(e, phi_n)\n",
    "\n",
    "    # Return public and private keys\n",
    "    return ((e, n), (d, n))\n",
    "\n",
    "# Function to encrypt a plaintext message\n",
    "def encrypt(plaintext, public_key):\n",
    "    e, n = public_key\n",
    "    # Convert plaintext to integer\n",
    "    plaintext_int = int.from_bytes(plaintext.encode(), byteorder='big')\n",
    "    # Encrypt using modular exponentiation\n",
    "    ciphertext = pow(plaintext_int, e, n)\n",
    "    return ciphertext\n",
    "\n",
    "# Function to decrypt a ciphertext message\n",
    "def decrypt(ciphertext, private_key):\n",
    "    d, n = private_key\n",
    "    # Decrypt using modular exponentiation\n",
    "    plaintext_int = pow(ciphertext, d, n)\n",
    "    # Convert integer back to plaintext\n",
    "    plaintext = plaintext_int.to_bytes((plaintext_int.bit_length() + 7) // 8, byteorder='big').decode()\n",
    "    return plaintext\n",
    "\n",
    "# Main function to demonstrate RSA\n",
    "def main():\n",
    "    # Generate public and private keys\n",
    "    public_key, private_key = generate_keys()\n",
    "\n",
    "    print(\"Public Key (e, n):\", public_key)\n",
    "    print(\"Private Key (d, n):\", private_key)\n",
    "\n",
    "    # Message to encrypt\n",
    "    message = \"Hello RSA!\"\n",
    "    print(\"\\nOriginal Message:\", message)\n",
    "\n",
    "    # Encrypt the message\n",
    "    ciphertext = encrypt(message, public_key)\n",
    "    print(\"\\nCiphertext:\", ciphertext)\n",
    "\n",
    "    # Decrypt the message\n",
    "    decrypted_message = decrypt(ciphertext, private_key)\n",
    "    print(\"\\nDecrypted Message:\", decrypted_message)\n",
    "\n",
    "# Run the main function\n",
    "if __name__ == \"__main__\":\n",
    "    main()\n"
   ]
  }
 ],
 "metadata": {
  "kernelspec": {
   "display_name": "Python 3",
   "language": "python",
   "name": "python3"
  },
  "language_info": {
   "codemirror_mode": {
    "name": "ipython",
    "version": 3
   },
   "file_extension": ".py",
   "mimetype": "text/x-python",
   "name": "python",
   "nbconvert_exporter": "python",
   "pygments_lexer": "ipython3",
   "version": "3.10.0"
  }
 },
 "nbformat": 4,
 "nbformat_minor": 5
}
